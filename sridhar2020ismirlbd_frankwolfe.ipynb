{
 "cells": [
  {
   "cell_type": "code",
   "execution_count": 23,
   "metadata": {},
   "outputs": [],
   "source": [
    "import glob\n",
    "import h5py \n",
    "import librosa\n",
    "from librosa import cqt\n",
    "from librosa.core import amplitude_to_db\n",
    "from librosa.display import specshow\n",
    "import matplotlib.pyplot as plt\n",
    "import numpy as np\n",
    "import os\n",
    "import scipy\n",
    "from scipy.spatial import ConvexHull\n",
    "from sklearn.model_selection import ParameterGrid\n",
    "from sklearn.manifold import Isomap\n",
    "import time\n",
    "from tqdm import tqdm\n"
   ]
  },
  {
   "cell_type": "code",
   "execution_count": 24,
   "metadata": {},
   "outputs": [],
   "source": [
    "hop_size = 512\n",
    "q = 24\n",
    "\n",
    "setting = {\n",
    "    'Q': 24,\n",
    "    'k': 3,\n",
    "    'comp': 'log',\n",
    "    'instr': '', # Replace by 'Tp' for trumpet or 'Hp' for harp\n",
    "}\n",
    "\n",
    "with h5py.File(\"TinySOL.h5\", \"r\") as f:\n",
    "    features_dict = {\n",
    "        key:f[key][()]\n",
    "        for key in f.keys()\n",
    "        if setting[\"instr\"] in key\n",
    "    }"
   ]
  },
  {
   "cell_type": "code",
   "execution_count": 25,
   "metadata": {},
   "outputs": [],
   "source": [
    "CQT_OCTAVES = 7\n",
    "features_keys = list(features_dict.keys())\n",
    "\n",
    "q = setting['Q']\n",
    "# Batch process and store in a folder\n",
    "batch_str = [setting['instr']]\n",
    "\n",
    "batch_features = []\n",
    "for feature_key in features_keys:\n",
    "    # Get features that match setting\n",
    "\n",
    "    if all(x in feature_key for x in batch_str):\n",
    "        batch_features.append(features_dict[feature_key])\n",
    "\n",
    "batch_features = np.stack(batch_features, axis=1)\n",
    "\n",
    "# Isomap parameters\n",
    "hop_size = 512\n",
    "compression = 'log'\n",
    "features = amplitude_to_db(batch_features)\n",
    "n_neighbors = setting['k']\n",
    "n_dimensions = 3\n",
    "n_octaves = 3    \n",
    "\n",
    "# Prune feature matrix\n",
    "bin_low = np.where((np.std(features, axis=1) / np.std(features)) > 0.1)[0][0] + q\n",
    "bin_high = bin_low + n_octaves*q \n",
    "X = features[bin_low:bin_high, :]\n",
    "\n",
    "# Z-score Standardization- improves contrast in correlation matrix\n",
    "mus = np.mean(X, axis=1)\n",
    "sigmas = np.std(X, axis=1)\n",
    "X_std = (X - mus[:, np.newaxis]) / (1e-6 + sigmas[:, np.newaxis]) # 1e-6 to avoid runtime division by zero\n",
    "\n",
    "# Pearson correlation matrix\n",
    "rho_std = np.dot(X_std, X_std.T) / X_std.shape[1]\n",
    "\n",
    "# Isomap embedding\n",
    "isomap = Isomap(n_components= n_dimensions, n_neighbors= n_neighbors)\n",
    "coords = isomap.fit_transform(rho_std)\n",
    "\n",
    "# Convex hull\n",
    "xy_coords = coords[:, :2]\n",
    "hull = ConvexHull(xy_coords)\n",
    "hull_vertices = xy_coords[hull.vertices, :]\n",
    "\n",
    "# Center of gravity\n",
    "hull_center = np.mean(hull_vertices, axis=0)"
   ]
  },
  {
   "cell_type": "code",
   "execution_count": 26,
   "metadata": {},
   "outputs": [],
   "source": [
    "n_iterations = 500\n",
    "\n",
    "# Initialize\n",
    "center = np.copy(hull_center)\n",
    "\n",
    "centers = []\n",
    "losses = []\n",
    "\n",
    "for iteration in range(n_iterations):\n",
    "    # Compute gradient\n",
    "    # Equation 5 from Coope 1992. \n",
    "    # \"Circle fitting by linear and nonlinear least squares\".\n",
    "    xy_vectors = center - xy_coords\n",
    "    radius = np.mean(np.linalg.norm(xy_vectors, axis=1))\n",
    "    azimuths = xy_vectors / np.linalg.norm(xy_vectors, axis=1)[:, np.newaxis]\n",
    "    gradient = 2 * (np.mean(xy_vectors, axis=0) - radius * np.mean(azimuths, axis=0))\n",
    "\n",
    "    # Compute candidate directions\n",
    "    directions = hull_vertices - center\n",
    "    inner_products = np.dot(directions, gradient)\n",
    "    best_direction = directions[np.argmin(inner_products)]\n",
    "\n",
    "    # Gradient descent update\n",
    "    learning_rate = 0.01 * 2*iteration/(2+iteration)\n",
    "    center += learning_rate * best_direction\n",
    "    \n",
    "    # Compute loss\n",
    "    loss = np.linalg.norm(xy_vectors)**2 - np.sum(np.linalg.norm(xy_vectors, axis=1))**2 / xy_vectors.shape[0]\n",
    "    losses.append(loss)\n",
    "    centers.append(np.copy(center))\n",
    "    \n",
    "centers = np.array(centers)"
   ]
  },
  {
   "cell_type": "code",
   "execution_count": 27,
   "metadata": {},
   "outputs": [
    {
     "data": {
      "text/plain": [
       "[<matplotlib.lines.Line2D at 0x7f9623e4d950>]"
      ]
     },
     "execution_count": 27,
     "metadata": {},
     "output_type": "execute_result"
    },
    {
     "data": {
      "image/png": "[encoded data removed]",
      "text/plain": [
       "<Figure size 432x288 with 1 Axes>"
      ]
     },
     "metadata": {
      "needs_background": "light"
     },
     "output_type": "display_data"
    }
   ],
   "source": [
    "plt.plot(losses)"
   ]
  },
  {
   "cell_type": "code",
   "execution_count": 28,
   "metadata": {},
   "outputs": [
    {
     "data": {
      "text/plain": [
       "[<matplotlib.lines.Line2D at 0x7f962456ad50>]"
      ]
     },
     "execution_count": 28,
     "metadata": {},
     "output_type": "execute_result"
    },
    {
     "data": {
      "image/png": "[encoded data removed]",
      "text/plain": [
       "<Figure size 576x576 with 1 Axes>"
      ]
     },
     "metadata": {
      "needs_background": "light"
     },
     "output_type": "display_data"
    }
   ],
   "source": [
    "plt.figure(figsize=(8, 8))\n",
    "plt.plot(\n",
    "    np.concatenate([hull_vertices[:, 0], hull_vertices[0:, 0]]),\n",
    "    np.concatenate([hull_vertices[:, 1], hull_vertices[0:, 1]]),\n",
    "    '-s', color='b')\n",
    "plt.plot(hull_center[np.newaxis, 0], hull_center[np.newaxis, 1], 'd', color='r')\n",
    "plt.plot(centers[:, 0], centers[:, 1], '-', color='g')\n",
    "plt.plot(centers[-1:, 0], centers[-1:, 1], 's', color='g')\n",
    "plt.plot(xy_coords[:, 0], xy_coords[:, 1], '.', color='k', alpha=1.0)\n",
    "\n"
   ]
  },
  {
   "cell_type": "code",
   "execution_count": null,
   "metadata": {},
   "outputs": [],
   "source": []
  },
  {
   "cell_type": "code",
   "execution_count": null,
   "metadata": {},
   "outputs": [],
   "source": []
  }
 ],
 "metadata": {
  "kernelspec": {
   "display_name": "Python 3",
   "language": "python",
   "name": "python3"
  },
  "language_info": {
   "codemirror_mode": {
    "name": "ipython",
    "version": 3
   },
   "file_extension": ".py",
   "mimetype": "text/x-python",
   "name": "python",
   "nbconvert_exporter": "python",
   "pygments_lexer": "ipython3",
   "version": "3.7.7"
  }
 },
 "nbformat": 4,
 "nbformat_minor": 4
}
