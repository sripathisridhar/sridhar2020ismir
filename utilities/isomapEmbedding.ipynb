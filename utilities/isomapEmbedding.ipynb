{
 "cells": [
  {
   "cell_type": "code",
   "execution_count": 3,
   "metadata": {},
   "outputs": [],
   "source": [
    "import numpy as np\n",
    "# import scipy\n",
    "from sklearn.manifold import Isomap\n",
    "\n",
    "import matplotlib.pyplot as plt\n",
    "\n",
    "import librosa\n",
    "from librosa.core import amplitude_to_db"
   ]
  },
  {
   "cell_type": "code",
   "execution_count": null,
   "metadata": {},
   "outputs": [],
   "source": [
    "def isomapEmbedding(features, q=24, comp='log', n_neighbors=3, n_octaves=3, n_dimensions=3):\n",
    "    '''\n",
    "    Returns an isomap embedding in n_dimensions, with n_neighbors neighborhood graph and\n",
    "    restricted to n_octaves\n",
    "    \n",
    "    Inputs\n",
    "    ------\n",
    "    features- np.ndarray of CQT features stacked horizontally\n",
    "    q- frequency bins per octave used in CQT features\n",
    "    comp- compression, 'log' by default\n",
    "    n_neighbors- number of neighbors in k-nearest neighbor graph, 3 by default\n",
    "    n_octaves- number of octaves in output embedding with range of relative importance is chosen, 3 by default\n",
    "    n_dimensions- number of dimensions, 3 by default\n",
    "    \n",
    "    Returns\n",
    "    ------\n",
    "    coords- Isomap embedding coordinates\n",
    "    freqs- Frequency bin array\n",
    "    notes- Array of notes corresponding to freqs \n",
    "    '''\n",
    "    \n",
    "    \n",
    "    CQT_OCTAVES = 7\n",
    "    \n",
    "    if comp!='log':\n",
    "        raise Exception(\"Only log compression currently supported\")\n",
    "    else:\n",
    "        features = amplitude_to_db(batch_features)\n",
    "\n",
    "    # Prune feature matrix\n",
    "    bin_low = np.where((np.std(features, axis=1) / np.std(features)) > 0.1)[0][0] + q\n",
    "    bin_high = bin_low + n_octaves*q \n",
    "    X = features[bin_low:bin_high, :]\n",
    "\n",
    "    # Z-score Standardization- improves contrast in correlation matrix\n",
    "    mus = np.mean(X, axis=1)\n",
    "    sigmas = np.std(X, axis=1)\n",
    "    X_std = (X - mus[:, np.newaxis]) / (1e-6 + sigmas[:, np.newaxis]) # 1e-6 to avoid runtime division by zero\n",
    "\n",
    "    # Pearson correlation matrix\n",
    "    rho_std = np.dot(X_std, X_std.T) / X_std.shape[1]\n",
    "    \n",
    "    # Isomap embedding\n",
    "    isomap = Isomap(n_components= n_dimensions, n_neighbors= n_neighbors)\n",
    "    coords = isomap.fit_transform(rho_std)\n",
    "    \n",
    "    # Get note value\n",
    "    freqs= librosa.cqt_frequencies(q*CQT_OCTAVES, fmin=librosa.note_to_hz('C1'), bins_per_octave=q) #librosa CQT default fmin is C1\n",
    "    chroma_list= librosa.core.hz_to_note(freqs[bin_low:bin_high])\n",
    "    \n",
    "    notes = []\n",
    "    reps = q//12\n",
    "    for chroma in chroma_list:\n",
    "        for i in range(reps):\n",
    "            notes.append(chroma)"
   ]
  }
 ],
 "metadata": {
  "kernelspec": {
   "display_name": "Python 3",
   "language": "python",
   "name": "python3"
  },
  "language_info": {
   "codemirror_mode": {
    "name": "ipython",
    "version": 3
   },
   "file_extension": ".py",
   "mimetype": "text/x-python",
   "name": "python",
   "nbconvert_exporter": "python",
   "pygments_lexer": "ipython3",
   "version": "3.7.0"
  }
 },
 "nbformat": 4,
 "nbformat_minor": 2
}
