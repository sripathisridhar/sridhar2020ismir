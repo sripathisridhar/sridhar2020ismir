{
 "cells": [
  {
   "cell_type": "code",
   "execution_count": 1,
   "metadata": {},
   "outputs": [],
   "source": [
    "import numpy as np\n",
    "from sklearn.manifold import Isomap\n",
    "\n",
    "import matplotlib.pyplot as plt\n",
    "\n",
    "import librosa\n",
    "from librosa.core import amplitude_to_db"
   ]
  },
  {
   "cell_type": "code",
   "execution_count": 2,
   "metadata": {},
   "outputs": [],
   "source": [
    "def isomapEmbedding(batch_features, q=24, comp='log', n_neighbors=3, n_octaves=3, n_dimensions=3):\n",
    "    '''\n",
    "    Returns an isomap embedding in n_dimensions, with n_neighbors neighborhood graph and\n",
    "    restricted to n_octaves\n",
    "    \n",
    "    Inputs\n",
    "    ------\n",
    "    batch_features- np.ndarray of CQT features stacked horizontally\n",
    "    q- frequency bins per octave used in CQT features\n",
    "    comp- compression, 'log' by default\n",
    "    n_neighbors- number of neighbors in k-nearest neighbor graph, 3 by default\n",
    "    n_octaves- number of octaves in output embedding with range of relative importance is chosen, 3 by default\n",
    "    n_dimensions- number of dimensions, 3 by default\n",
    "    \n",
    "    Returns\n",
    "    ------\n",
    "    isomap - Isomap object with learned embedding\n",
    "    freqs - Frequency bin array\n",
    "    rho_std - Pearson correlation matrix\n",
    "    '''\n",
    "    \n",
    "    \n",
    "    CQT_OCTAVES = 7\n",
    "    \n",
    "    if comp!='log':\n",
    "        raise Exception(\"Only log compression currently supported\")\n",
    "    else:\n",
    "        features = amplitude_to_db(batch_features)\n",
    "\n",
    "    # Prune feature matrix\n",
    "    bin_low = np.where((np.std(features, axis=1) / np.std(features)) > 0.1)[0][0] + q\n",
    "    bin_high = bin_low + n_octaves*q \n",
    "    X = features[bin_low:bin_high, :]\n",
    "\n",
    "    # Z-score Standardization- improves contrast in correlation matrix\n",
    "    mus = np.mean(X, axis=1)\n",
    "    sigmas = np.std(X, axis=1)\n",
    "    X_std = (X - mus[:, np.newaxis]) / (1e-6 + sigmas[:, np.newaxis]) # 1e-6 to avoid runtime division by zero\n",
    "\n",
    "    # Pearson correlation matrix\n",
    "    rho_std = np.dot(X_std, X_std.T) / X_std.shape[1]\n",
    "    \n",
    "    # Isomap embedding\n",
    "    isomap = Isomap(n_components=n_dimensions, n_neighbors=n_neighbors)\n",
    "    isomap.fit_transform(rho_std)\n",
    "    \n",
    "    # Get note value\n",
    "    freqs = librosa.cqt_frequencies(q*CQT_OCTAVES, fmin=librosa.note_to_hz('C1'), bins_per_octave=q) #librosa CQT default fmin is C1\n",
    "    chroma_list = librosa.core.hz_to_note(freqs[bin_low:bin_high])\n",
    "\n",
    "    notes = []\n",
    "    reps = q//12\n",
    "    for chroma in chroma_list:\n",
    "        for i in range(reps):\n",
    "            notes.append(chroma)\n",
    "            \n",
    "    # Return embedding object\n",
    "    return isomap, freqs, rho_std"
   ]
  },
  {
   "cell_type": "code",
   "execution_count": 3,
   "metadata": {},
   "outputs": [],
   "source": [
    "import h5py\n",
    "import os\n",
    "\n",
    "data_dir = '/Users/sripathisridhar/Documents/GitHub/embedding-bio/'\n",
    "with h5py.File(os.path.join(data_dir,\"SOL.h5\"), \"r\") as f:\n",
    "    features_dict = {key:f[key][()] for key in f.keys()}"
   ]
  },
  {
   "cell_type": "code",
   "execution_count": 4,
   "metadata": {},
   "outputs": [],
   "source": [
    "batch_features = []\n",
    "q=24\n",
    "for key in features_dict.keys():\n",
    "    if 'Hp-ord' in key:\n",
    "        batch_features.append(features_dict[key])\n",
    "    \n",
    "batch_features = np.stack(batch_features, axis=1)\n",
    "\n",
    "isomap, freqs, rho_std = isomapEmbedding(batch_features)\n",
    "coords = isomap.embedding_"
   ]
  },
  {
   "cell_type": "code",
   "execution_count": 5,
   "metadata": {},
   "outputs": [
    {
     "data": {
      "text/plain": [
       "[<matplotlib.lines.Line2D at 0x1262d42b0>]"
      ]
     },
     "execution_count": 5,
     "metadata": {},
     "output_type": "execute_result"
    },
    {
     "data": {
      "image/png": "[encoded data removed]",
      "text/plain": [
       "<Figure size 396x198 with 1 Axes>"
      ]
     },
     "metadata": {
      "needs_background": "light"
     },
     "output_type": "display_data"
    }
   ],
   "source": [
    "curr_fig = plt.figure(figsize=(5.5, 2.75))\n",
    "ax = curr_fig.add_subplot(121)\n",
    "ax.axis('off')\n",
    "\n",
    "import colorcet as cc\n",
    "subsampled_color_ids = np.floor(np.linspace(0, 256, q, endpoint=False)).astype('int')\n",
    "color_list = [cc.cyclic_mygbm_30_95_c78[i] for i in subsampled_color_ids]\n",
    "\n",
    "# Plot embedding with color\n",
    "for i in range(coords.shape[0]):\n",
    "    plt.scatter(coords[i, 0], coords[i, 1], color=color_list[i%q], s=30.0)\n",
    "\n",
    "plt.plot(coords[:, 0], coords[:, 1], color='black', linewidth=0.2)\n",
    "\n"
   ]
  },
  {
   "cell_type": "code",
   "execution_count": 7,
   "metadata": {},
   "outputs": [
    {
     "name": "stderr",
     "output_type": "stream",
     "text": [
      "/Library/Frameworks/Python.framework/Versions/3.7/lib/python3.7/site-packages/ipykernel_launcher.py:1: RuntimeWarning: invalid value encountered in log\n",
      "  \"\"\"Entry point for launching an IPython kernel.\n"
     ]
    },
    {
     "data": {
      "text/plain": [
       "<matplotlib.colorbar.Colorbar at 0x12be30630>"
      ]
     },
     "execution_count": 7,
     "metadata": {},
     "output_type": "execute_result"
    },
    {
     "data": {
      "image/png": "[encoded data removed]",
      "text/plain": [
       "<Figure size 432x288 with 2 Axes>"
      ]
     },
     "metadata": {
      "needs_background": "light"
     },
     "output_type": "display_data"
    }
   ],
   "source": [
    "adj_mat = np.sqrt(-0.5 * np.log(rho_std))\n",
    "\n",
    "from librosa import display\n",
    "librosa.display.specshow(adj_mat, cmap='magma_r')\n",
    "plt.colorbar()"
   ]
  },
  {
   "cell_type": "code",
   "execution_count": null,
   "metadata": {},
   "outputs": [],
   "source": []
  }
 ],
 "metadata": {
  "kernelspec": {
   "display_name": "Python 3",
   "language": "python",
   "name": "python3"
  },
  "language_info": {
   "codemirror_mode": {
    "name": "ipython",
    "version": 3
   },
   "file_extension": ".py",
   "mimetype": "text/x-python",
   "name": "python",
   "nbconvert_exporter": "python",
   "pygments_lexer": "ipython3",
   "version": "3.7.0"
  }
 },
 "nbformat": 4,
 "nbformat_minor": 2
}
