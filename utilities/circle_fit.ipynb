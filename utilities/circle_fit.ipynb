{
 "cells": [
  {
   "cell_type": "code",
   "execution_count": 1,
   "metadata": {},
   "outputs": [],
   "source": [
    "import numpy as np"
   ]
  },
  {
   "cell_type": "code",
   "execution_count": 2,
   "metadata": {},
   "outputs": [],
   "source": [
    "def circle_fit(A, verbose=False):\n",
    "    \n",
    "    '''\n",
    "    This function returns a linear least squares estimate of a circle fit\n",
    "    Points used must be stored in the columns of A as (x,y) coordinates\n",
    "    ----\n",
    "    Returns\n",
    "        x- Coordinates of estimated circle\n",
    "        r- Radius of estimated circle\n",
    "        residual- Residual error of the fit\n",
    "    '''\n",
    "    [n,m] = A.shape\n",
    "    A_augmented = np.hstack((A.T, np.ones((m,1))))\n",
    "    A_augmented.shape\n",
    "\n",
    "    # Linear least squares fit estimate\n",
    "    y, _,_,_ = np.linalg.lstsq(A_augmented, np.sum(np.multiply(A_augmented, A_augmented), axis=1).T, rcond=None)\n",
    "    x = 0.5*y[:n]\n",
    "    r = np.sqrt(y[n] + np.dot(x.T,x))\n",
    "\n",
    "    # Euclidean distance error\n",
    "#     residual = abs(np.expand_dims(np.multiply(x, x), axis=1) - np.multiply(A, A)) - np.square(r)\n",
    "    # Residual\n",
    "    residual = abs(np.sum((np.sum(np.square(np.expand_dims(x, axis=1) - A), axis=0) - r**2)))\n",
    "    \n",
    "    return x, r, residual"
   ]
  }
 ],
 "metadata": {
  "kernelspec": {
   "display_name": "Python 3",
   "language": "python",
   "name": "python3"
  },
  "language_info": {
   "codemirror_mode": {
    "name": "ipython",
    "version": 3
   },
   "file_extension": ".py",
   "mimetype": "text/x-python",
   "name": "python",
   "nbconvert_exporter": "python",
   "pygments_lexer": "ipython3",
   "version": "3.7.0"
  }
 },
 "nbformat": 4,
 "nbformat_minor": 2
}
