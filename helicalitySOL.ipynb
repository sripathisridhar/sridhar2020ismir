{
 "cells": [
  {
   "cell_type": "code",
   "execution_count": 3,
   "metadata": {},
   "outputs": [
    {
     "name": "stderr",
     "output_type": "stream",
     "text": [
      "/Library/Frameworks/Python.framework/Versions/3.7/lib/python3.7/importlib/_bootstrap.py:219: RuntimeWarning: numpy.ufunc size changed, may indicate binary incompatibility. Expected 192 from C header, got 216 from PyObject\n",
      "  return f(*args, **kwds)\n",
      "/Library/Frameworks/Python.framework/Versions/3.7/lib/python3.7/importlib/_bootstrap.py:219: RuntimeWarning: numpy.ufunc size changed, may indicate binary incompatibility. Expected 216, got 192\n",
      "  return f(*args, **kwds)\n",
      "/Library/Frameworks/Python.framework/Versions/3.7/lib/python3.7/importlib/_bootstrap.py:219: RuntimeWarning: numpy.ufunc size changed, may indicate binary incompatibility. Expected 192 from C header, got 216 from PyObject\n",
      "  return f(*args, **kwds)\n",
      "/Library/Frameworks/Python.framework/Versions/3.7/lib/python3.7/importlib/_bootstrap.py:219: RuntimeWarning: numpy.ufunc size changed, may indicate binary incompatibility. Expected 192 from C header, got 216 from PyObject\n",
      "  return f(*args, **kwds)\n",
      "/Library/Frameworks/Python.framework/Versions/3.7/lib/python3.7/importlib/_bootstrap.py:219: RuntimeWarning: numpy.ufunc size changed, may indicate binary incompatibility. Expected 216, got 192\n",
      "  return f(*args, **kwds)\n",
      "/Library/Frameworks/Python.framework/Versions/3.7/lib/python3.7/importlib/_bootstrap.py:219: RuntimeWarning: numpy.ufunc size changed, may indicate binary incompatibility. Expected 192 from C header, got 216 from PyObject\n",
      "  return f(*args, **kwds)\n",
      "/Library/Frameworks/Python.framework/Versions/3.7/lib/python3.7/importlib/_bootstrap.py:219: RuntimeWarning: numpy.ufunc size changed, may indicate binary incompatibility. Expected 216, got 192\n",
      "  return f(*args, **kwds)\n"
     ]
    }
   ],
   "source": [
    "import numpy as np\n",
    "import matplotlib.pyplot as plt\n",
    "import scipy \n",
    "from sklearn.model_selection import ParameterGrid\n",
    "from sklearn.manifold import Isomap\n",
    "import time\n",
    "from tqdm import tqdm\n",
    "\n",
    "import librosa\n",
    "from librosa import cqt\n",
    "from librosa.core import amplitude_to_db\n",
    "from librosa.display import specshow\n",
    "\n",
    "import os\n",
    "import glob"
   ]
  },
  {
   "cell_type": "code",
   "execution_count": 4,
   "metadata": {},
   "outputs": [],
   "source": [
    "data_dir = '/Users/sripathisridhar/Desktop/SOL'"
   ]
  },
  {
   "cell_type": "code",
   "execution_count": 5,
   "metadata": {},
   "outputs": [],
   "source": [
    "file_paths= sorted(glob.glob(os.path.join(data_dir, '**', '*.wav')))\n",
    "\n",
    "file_names= []\n",
    "for file_path in file_paths:\n",
    "    file_names.append(os.path.basename(file_path))"
   ]
  },
  {
   "cell_type": "code",
   "execution_count": 6,
   "metadata": {},
   "outputs": [],
   "source": [
    "hop_size= 512\n",
    "q= 24"
   ]
  },
  {
   "cell_type": "code",
   "execution_count": 8,
   "metadata": {},
   "outputs": [
    {
     "name": "stderr",
     "output_type": "stream",
     "text": [
      "100%|██████████| 1212/1212 [05:38<00:00,  3.61it/s]\n"
     ]
    }
   ],
   "source": [
    "features_dict= {}\n",
    "feature_key= ''\n",
    "\n",
    "for file_path in tqdm(file_paths, disable=False):\n",
    "\n",
    "    # Read audio files\n",
    "    waveform, sample_rate= librosa.load(file_path, sr=None)\n",
    "\n",
    "    # Compute CQTs\n",
    "    cqt_complex= cqt(y=waveform,\n",
    "                    sr=sample_rate,\n",
    "                    hop_length=hop_size,\n",
    "                    bins_per_octave=q,\n",
    "                    n_bins=q*7,\n",
    "                    sparsity=1e-6,\n",
    "                    )\n",
    "    scalogram= np.abs(cqt_complex)**2\n",
    "\n",
    "    # Find frame with maximum RMS value\n",
    "    rms= librosa.feature.rms(y=waveform,\n",
    "                              hop_length=hop_size,\n",
    "                             )\n",
    "    rms_argmax= np.argmax(rms)\n",
    "    feature= scalogram[:,rms_argmax]\n",
    "\n",
    "    # Stack in dict\n",
    "    file_name= os.path.basename(file_path)\n",
    "    feature_key= f'{file_name}'\n",
    "    features_dict[feature_key]= feature"
   ]
  },
  {
   "cell_type": "code",
   "execution_count": 9,
   "metadata": {},
   "outputs": [],
   "source": [
    "grid = {\n",
    "    'Q': [24],\n",
    "    'k': [3],\n",
    "    'comp': ['log'],\n",
    "    'instr': ['all'],\n",
    "    'dyn': ['all']\n",
    "}\n",
    "\n",
    "settings = list(ParameterGrid(grid))\n",
    "\n",
    "for setting in settings:\n",
    "    \n",
    "    if setting[\"instr\"] == 'all':\n",
    "        setting['instr'] = ''\n",
    "    \n",
    "    if setting['dyn'] == 'all':\n",
    "        setting['dyn'] = ''"
   ]
  },
  {
   "cell_type": "code",
   "execution_count": 10,
   "metadata": {},
   "outputs": [],
   "source": [
    "batch_str = []\n",
    "CQT_OCTAVES = 7\n",
    "\n",
    "features_keys = list(features_dict.keys())\n",
    "\n",
    "for setting in settings:\n",
    "    \n",
    "    q = setting['Q']\n",
    "    # Batch process and store in a folder\n",
    "    batch_str = [setting['instr'], setting['dyn']]\n",
    "\n",
    "    batch_features = []\n",
    "    for feature_key in features_keys:\n",
    "        # Get features that match setting\n",
    "        \n",
    "        if all(x in feature_key for x in batch_str):\n",
    "            batch_features.append(features_dict[feature_key])\n",
    "    \n",
    "    batch_features = np.stack(batch_features, axis=1)\n",
    "    \n",
    "    # Isomap parameters\n",
    "    hop_size = 512\n",
    "    compression = 'log'\n",
    "    features = amplitude_to_db(batch_features)\n",
    "    n_neighbors = setting['k']\n",
    "    n_dimensions = 3\n",
    "    n_octaves = 3    \n",
    "\n",
    "    # Prune feature matrix\n",
    "    bin_low = np.where((np.std(features, axis=1) / np.std(features)) > 0.1)[0][0] + q\n",
    "    bin_high = bin_low + n_octaves*q \n",
    "    X = features[bin_low:bin_high, :]\n",
    "\n",
    "    # Z-score Standardization- improves contrast in correlation matrix\n",
    "    mus = np.mean(X, axis=1)\n",
    "    sigmas = np.std(X, axis=1)\n",
    "    X_std = (X - mus[:, np.newaxis]) / (1e-6 + sigmas[:, np.newaxis]) # 1e-6 to avoid runtime division by zero\n",
    "\n",
    "    # Pearson correlation matrix\n",
    "    rho_std = np.dot(X_std, X_std.T) / X_std.shape[1]\n",
    "    \n",
    "    # Isomap embedding\n",
    "    isomap = Isomap(n_components= n_dimensions, n_neighbors= n_neighbors)\n",
    "    coords = isomap.fit_transform(rho_std)\n",
    "    \n",
    "    # Get note value\n",
    "    freqs= librosa.cqt_frequencies(q*CQT_OCTAVES, fmin=librosa.note_to_hz('C1'), bins_per_octave=q) #librosa CQT default fmin is C1\n",
    "    chroma_list= librosa.core.hz_to_note(freqs[bin_low:bin_high])\n",
    "    \n",
    "    notes = []\n",
    "    reps = q//12\n",
    "    for chroma in chroma_list:\n",
    "        for i in range(reps):\n",
    "            notes.append(chroma)"
   ]
  },
  {
   "cell_type": "code",
   "execution_count": 11,
   "metadata": {},
   "outputs": [
    {
     "data": {
      "image/png": "[encoded data removed]",
      "text/plain": [
       "<Figure size 396x198 with 1 Axes>"
      ]
     },
     "metadata": {
      "needs_background": "light"
     },
     "output_type": "display_data"
    },
    {
     "data": {
      "image/png": "[encoded data removed]",
      "text/plain": [
       "<Figure size 180x180 with 1 Axes>"
      ]
     },
     "metadata": {
      "needs_background": "light"
     },
     "output_type": "display_data"
    }
   ],
   "source": [
    "curr_fig= plt.figure(figsize=(5.5, 2.75))\n",
    "ax= curr_fig.add_subplot(121)\n",
    "ax.axis('off')\n",
    "\n",
    "import colorcet as cc\n",
    "subsampled_color_ids = np.floor(np.linspace(0, 256, q, endpoint=False)).astype('int')\n",
    "color_list= [cc.cyclic_mygbm_30_95_c78[i] for i in subsampled_color_ids]\n",
    "\n",
    "# Plot embedding with color\n",
    "for i in range(coords.shape[0]):\n",
    "    plt.scatter(coords[i, 0], coords[i, 1], color= color_list[i%q], s=30.0)\n",
    "\n",
    "plt.plot(coords[:, 0], coords[:, 1], color='black', linewidth=0.2)\n",
    "\n",
    "# Plot Pearson correlation matrix\n",
    "rho_frequencies = freqs[bin_low:bin_high]\n",
    "\n",
    "freq_ticklabels = ['A2', 'A3', 'A4']\n",
    "freq_ticks = librosa.core.note_to_hz(freq_ticklabels)\n",
    "\n",
    "tick_bins = []\n",
    "tick_labels= []\n",
    "for i,freq_tick in enumerate(freq_ticks):\n",
    "    tick_bin = np.argmin(np.abs(rho_frequencies-freq_tick))\n",
    "    tick_bins.append(tick_bin)\n",
    "    tick_labels.append(freq_ticklabels[i])\n",
    "\n",
    "plt.figure(figsize=(2.5,2.5))\n",
    "plt.imshow(np.abs(rho_std), cmap='magma_r')\n",
    "plt.xticks(tick_bins)\n",
    "plt.gca().set_xticklabels(freq_ticklabels)\n",
    "# plt.xlabel('Log-frequency (octaves)')\n",
    "plt.yticks(tick_bins)\n",
    "plt.gca().set_yticklabels(freq_ticklabels)\n",
    "# plt.ylabel('Log-frequency (octaves)')\n",
    "plt.gca().invert_yaxis()\n",
    "\n",
    "plt.clim(0, 1)\n"
   ]
  },
  {
   "cell_type": "code",
   "execution_count": 48,
   "metadata": {},
   "outputs": [],
   "source": [
    "import circle_fit\n",
    "import importlib\n",
    "importlib.reload(circle_fit)\n",
    "from circle_fit import circle_fit\n",
    "\n",
    "A = np.transpose(coords[:,:-1])\n",
    "x, r, circle_residual = circle_fit(A, verbose=True)"
   ]
  },
  {
   "cell_type": "code",
   "execution_count": 49,
   "metadata": {},
   "outputs": [
    {
     "data": {
      "image/png": "[encoded data removed]",
      "text/plain": [
       "<Figure size 432x288 with 1 Axes>"
      ]
     },
     "metadata": {
      "needs_background": "light"
     },
     "output_type": "display_data"
    },
    {
     "name": "stdout",
     "output_type": "stream",
     "text": [
      "72.0000000000022\n"
     ]
    }
   ],
   "source": [
    "import matplotlib\n",
    "matplotlib.rc('font', family='serif')\n",
    "\n",
    "fig, axes = plt.subplots()\n",
    "plt.scatter(A[0,:],A[1,:])\n",
    "plt.plot(x[0],x[1],'rx')\n",
    "\n",
    "circle = plt.Circle(x, radius=r, fill=False, linestyle='-.')\n",
    "\n",
    "axes.set_aspect(1)\n",
    "axes.add_artist(circle)\n",
    "\n",
    "# axes.set_ylim([-5,6])\n",
    "# axes.set_xlim([-2,8])\n",
    "\n",
    "plt.title('Circle fit: TinySOL all instr', pad=10.0)\n",
    "plt.show()\n",
    "\n",
    "print(circle_residual)"
   ]
  },
  {
   "cell_type": "code",
   "execution_count": 50,
   "metadata": {
    "scrolled": true
   },
   "outputs": [
    {
     "name": "stdout",
     "output_type": "stream",
     "text": [
      "[59.39404892]\n"
     ]
    }
   ],
   "source": [
    "line_fit, fit_returns = np.polynomial.polynomial.polyfit(np.arange(len(coords[:,2])), coords[:,2], deg=1, full=True)\n",
    "line_residual = fit_returns[0]\n",
    "print(line_residual)"
   ]
  },
  {
   "cell_type": "code",
   "execution_count": 57,
   "metadata": {},
   "outputs": [
    {
     "name": "stdout",
     "output_type": "stream",
     "text": [
      "0.0052234352623828605\n"
     ]
    }
   ],
   "source": [
    "x = np.arange(len(coords[:,2]))\n",
    "r = scipy.stats.linregress(x, coords[:,2])\n",
    "print(r.stderr)"
   ]
  },
  {
   "cell_type": "code",
   "execution_count": 58,
   "metadata": {},
   "outputs": [
    {
     "data": {
      "text/plain": [
       "[<matplotlib.lines.Line2D at 0x189866908>]"
      ]
     },
     "execution_count": 58,
     "metadata": {},
     "output_type": "execute_result"
    },
    {
     "data": {
      "image/png": "[encoded data removed]",
      "text/plain": [
       "<Figure size 432x288 with 1 Axes>"
      ]
     },
     "metadata": {
      "needs_background": "light"
     },
     "output_type": "display_data"
    }
   ],
   "source": [
    "plt.figure()\n",
    "plt.title('Line fit: TinySOL all instr')\n",
    "plt.plot(coords[:,2], 'r')\n",
    "\n",
    "plt.plot(r.intercept + r.slope*x, 'b')"
   ]
  }
 ],
 "metadata": {
  "kernelspec": {
   "display_name": "Python 3",
   "language": "python",
   "name": "python3"
  },
  "language_info": {
   "codemirror_mode": {
    "name": "ipython",
    "version": 3
   },
   "file_extension": ".py",
   "mimetype": "text/x-python",
   "name": "python",
   "nbconvert_exporter": "python",
   "pygments_lexer": "ipython3",
   "version": "3.7.0"
  }
 },
 "nbformat": 4,
 "nbformat_minor": 2
}
