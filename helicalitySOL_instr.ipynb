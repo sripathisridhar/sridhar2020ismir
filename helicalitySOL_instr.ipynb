{
 "cells": [
  {
   "cell_type": "code",
   "execution_count": 4,
   "metadata": {},
   "outputs": [],
   "source": [
    "import numpy as np\n",
    "import matplotlib.pyplot as plt\n",
    "import scipy \n",
    "from sklearn.model_selection import ParameterGrid\n",
    "from sklearn.manifold import Isomap\n",
    "import time\n",
    "from tqdm import tqdm\n",
    "\n",
    "import librosa\n",
    "from librosa import cqt\n",
    "from librosa.core import amplitude_to_db\n",
    "from librosa.display import specshow\n",
    "\n",
    "import os\n",
    "import glob"
   ]
  },
  {
   "cell_type": "code",
   "execution_count": 5,
   "metadata": {},
   "outputs": [],
   "source": [
    "data_dir = '/Users/sripathisridhar/Desktop/SOL'"
   ]
  },
  {
   "cell_type": "code",
   "execution_count": 6,
   "metadata": {},
   "outputs": [],
   "source": [
    "file_paths= sorted(glob.glob(os.path.join(data_dir, '**', '*.wav')))\n",
    "\n",
    "file_names= []\n",
    "for file_path in file_paths:\n",
    "    file_names.append(os.path.basename(file_path))"
   ]
  },
  {
   "cell_type": "code",
   "execution_count": 7,
   "metadata": {},
   "outputs": [],
   "source": [
    "hop_size= 512\n",
    "q= 24"
   ]
  },
  {
   "cell_type": "code",
   "execution_count": 8,
   "metadata": {},
   "outputs": [],
   "source": [
    "import h5py \n",
    "\n",
    "with h5py.File(\"TinySOL.h5\", \"r\") as f:\n",
    "    features_dict = {key:f[key][()] for key in f.keys()}"
   ]
  },
  {
   "cell_type": "code",
   "execution_count": 9,
   "metadata": {},
   "outputs": [],
   "source": [
    "grid = {\n",
    "    'Q': [24],\n",
    "    'k': [3],\n",
    "    'comp': ['log'],\n",
    "    'instr': ['Hp-ord'],\n",
    "    'dyn': ['all']\n",
    "}\n",
    "\n",
    "settings = list(ParameterGrid(grid))\n",
    "\n",
    "for setting in settings:\n",
    "    \n",
    "    if setting[\"instr\"] == 'all':\n",
    "        setting['instr'] = ''\n",
    "    \n",
    "    if setting['dyn'] == 'all':\n",
    "        setting['dyn'] = ''"
   ]
  },
  {
   "cell_type": "code",
   "execution_count": 10,
   "metadata": {},
   "outputs": [],
   "source": [
    "batch_str = []\n",
    "CQT_OCTAVES = 7\n",
    "\n",
    "features_keys = list(features_dict.keys())\n",
    "\n",
    "for setting in settings:\n",
    "    \n",
    "    q = setting['Q']\n",
    "    # Batch process and store in a folder\n",
    "    batch_str = [setting['instr'], setting['dyn']]\n",
    "\n",
    "    batch_features = []\n",
    "    for feature_key in features_keys:\n",
    "        # Get features that match setting\n",
    "        \n",
    "        if all(x in feature_key for x in batch_str):\n",
    "            batch_features.append(features_dict[feature_key])\n",
    "    \n",
    "    batch_features = np.stack(batch_features, axis=1)\n",
    "    \n",
    "    # Isomap parameters\n",
    "    hop_size = 512\n",
    "    compression = 'log'\n",
    "    features = amplitude_to_db(batch_features)\n",
    "    n_neighbors = setting['k']\n",
    "    n_dimensions = 3\n",
    "    n_octaves = 3    \n",
    "\n",
    "    # Prune feature matrix\n",
    "    bin_low = np.where((np.std(features, axis=1) / np.std(features)) > 0.1)[0][0] + q\n",
    "    bin_high = bin_low + n_octaves*q \n",
    "    X = features[bin_low:bin_high, :]\n",
    "\n",
    "    # Z-score Standardization- improves contrast in correlation matrix\n",
    "    mus = np.mean(X, axis=1)\n",
    "    sigmas = np.std(X, axis=1)\n",
    "    X_std = (X - mus[:, np.newaxis]) / (1e-6 + sigmas[:, np.newaxis]) # 1e-6 to avoid runtime division by zero\n",
    "\n",
    "    # Pearson correlation matrix\n",
    "    rho_std = np.dot(X_std, X_std.T) / X_std.shape[1]\n",
    "    \n",
    "    # Isomap embedding\n",
    "    isomap = Isomap(n_components= n_dimensions, n_neighbors= n_neighbors)\n",
    "    coords = isomap.fit_transform(rho_std)\n",
    "    \n",
    "    # Get note value\n",
    "    freqs= librosa.cqt_frequencies(q*CQT_OCTAVES, fmin=librosa.note_to_hz('C1'), bins_per_octave=q) #librosa CQT default fmin is C1\n",
    "    chroma_list= librosa.core.hz_to_note(freqs[bin_low:bin_high])\n",
    "    \n",
    "    notes = []\n",
    "    reps = q//12\n",
    "    for chroma in chroma_list:\n",
    "        for i in range(reps):\n",
    "            notes.append(chroma)"
   ]
  },
  {
   "cell_type": "code",
   "execution_count": 11,
   "metadata": {},
   "outputs": [
    {
     "data": {
      "image/png": "[encoded data removed]",
      "text/plain": [
       "<Figure size 396x198 with 1 Axes>"
      ]
     },
     "metadata": {
      "needs_background": "light"
     },
     "output_type": "display_data"
    },
    {
     "data": {
      "image/png": "[encoded data removed]",
      "text/plain": [
       "<Figure size 180x180 with 1 Axes>"
      ]
     },
     "metadata": {
      "needs_background": "light"
     },
     "output_type": "display_data"
    }
   ],
   "source": [
    "curr_fig= plt.figure(figsize=(5.5, 2.75))\n",
    "ax= curr_fig.add_subplot(121)\n",
    "ax.axis('off')\n",
    "\n",
    "import colorcet as cc\n",
    "subsampled_color_ids = np.floor(np.linspace(0, 256, q, endpoint=False)).astype('int')\n",
    "color_list= [cc.cyclic_mygbm_30_95_c78[i] for i in subsampled_color_ids]\n",
    "\n",
    "# Plot embedding with color\n",
    "for i in range(coords.shape[0]):\n",
    "    plt.scatter(coords[i, 0], coords[i, 1], color= color_list[i%q], s=30.0)\n",
    "\n",
    "plt.plot(coords[:, 0], coords[:, 1], color='black', linewidth=0.2)\n",
    "\n",
    "# Plot Pearson correlation matrix\n",
    "rho_frequencies = freqs[bin_low:bin_high]\n",
    "\n",
    "freq_ticklabels = ['A2', 'A3', 'A4']\n",
    "freq_ticks = librosa.core.note_to_hz(freq_ticklabels)\n",
    "\n",
    "tick_bins = []\n",
    "tick_labels= []\n",
    "for i,freq_tick in enumerate(freq_ticks):\n",
    "    tick_bin = np.argmin(np.abs(rho_frequencies-freq_tick))\n",
    "    tick_bins.append(tick_bin)\n",
    "    tick_labels.append(freq_ticklabels[i])\n",
    "\n",
    "plt.figure(figsize=(2.5,2.5))\n",
    "plt.imshow(np.abs(rho_std), cmap='magma_r')\n",
    "plt.xticks(tick_bins)\n",
    "plt.gca().set_xticklabels(freq_ticklabels)\n",
    "# plt.xlabel('Log-frequency (octaves)')\n",
    "plt.yticks(tick_bins)\n",
    "plt.gca().set_yticklabels(freq_ticklabels)\n",
    "# plt.ylabel('Log-frequency (octaves)')\n",
    "plt.gca().invert_yaxis()\n",
    "\n",
    "plt.clim(0, 1)\n"
   ]
  },
  {
   "cell_type": "markdown",
   "metadata": {},
   "source": [
    "### Circle projection"
   ]
  },
  {
   "cell_type": "code",
   "execution_count": 12,
   "metadata": {},
   "outputs": [],
   "source": [
    "import circle_fit\n",
    "import importlib\n",
    "importlib.reload(circle_fit)\n",
    "from circle_fit import circle_fit\n",
    "\n",
    "A = np.transpose(coords[:,:-1])\n",
    "x, r, circle_residual = circle_fit(A, verbose=True)"
   ]
  },
  {
   "cell_type": "code",
   "execution_count": 13,
   "metadata": {},
   "outputs": [
    {
     "data": {
      "image/png": "[encoded data removed]",
      "text/plain": [
       "<Figure size 432x288 with 1 Axes>"
      ]
     },
     "metadata": {
      "needs_background": "light"
     },
     "output_type": "display_data"
    },
    {
     "name": "stdout",
     "output_type": "stream",
     "text": [
      "0.11785113019777281\n"
     ]
    }
   ],
   "source": [
    "import matplotlib\n",
    "matplotlib.rc('font', family='serif')\n",
    "\n",
    "fig, axes = plt.subplots()\n",
    "plt.scatter(A[0,:],A[1,:])\n",
    "plt.plot(x[0],x[1],'rx')\n",
    "\n",
    "circle = plt.Circle(x, radius=r, fill=False, linestyle='-.')\n",
    "\n",
    "axes.set_aspect(1)\n",
    "axes.add_artist(circle)\n",
    "\n",
    "# axes.set_ylim([-5,6])\n",
    "# axes.set_xlim([-2,8])\n",
    "\n",
    "plt.title('Circle fit: TinySOL all instr', pad=10.0)\n",
    "plt.show()\n",
    "\n",
    "print(np.sqrt(circle_residual)/72)"
   ]
  },
  {
   "cell_type": "code",
   "execution_count": 14,
   "metadata": {},
   "outputs": [
    {
     "data": {
      "text/plain": [
       "123.68845666079883"
      ]
     },
     "execution_count": 14,
     "metadata": {},
     "output_type": "execute_result"
    }
   ],
   "source": [
    "r"
   ]
  },
  {
   "cell_type": "code",
   "execution_count": 15,
   "metadata": {},
   "outputs": [],
   "source": [
    "def d_squared(a, b):\n",
    "    # Takes two n-D tuples and returns euclidean distance between them\n",
    "    \n",
    "    # Cast to array for computation \n",
    "    # Cast first to tuple in case a or b are Sympy Point objects\n",
    "    p_a = np.array(tuple(a), dtype='float')\n",
    "    p_b = np.array(tuple(b), dtype='float')\n",
    "    \n",
    "    return np.sum(np.square(p_a - p_b))"
   ]
  },
  {
   "cell_type": "code",
   "execution_count": 16,
   "metadata": {},
   "outputs": [],
   "source": [
    "import sympy\n",
    "\n",
    "from sympy.geometry import Circle, Point, Line\n",
    "\n",
    "center = Point(x, evaluate=False)\n",
    "c = Circle(center, r, evaluate=False)\n",
    "\n",
    "l = Line(Point(coords[0,:-1]), center, evaluate=False)\n",
    "points = [tuple(p) for p in l.points]\n",
    "\n",
    "xy_prime = []\n",
    "\n",
    "# TODO: Optimize to a more pythonic manner\n",
    "for x,y in coords[:,:2]:\n",
    "    \n",
    "    intersections = c.intersection(Line(Point(x,y), center, evaluate=False))\n",
    "    \n",
    "    if d_squared((x,y),intersections[0]) < d_squared((x,y), intersections[1]):\n",
    "        xy_prime.append([float(p) for p in intersections[0]])\n",
    "    else:\n",
    "        xy_prime.append([float(p) for p in intersections[1]])\n",
    "        "
   ]
  },
  {
   "cell_type": "code",
   "execution_count": 17,
   "metadata": {},
   "outputs": [
    {
     "data": {
      "image/png": "[encoded data removed]",
      "text/plain": [
       "<Figure size 432x288 with 1 Axes>"
      ]
     },
     "metadata": {
      "needs_background": "light"
     },
     "output_type": "display_data"
    }
   ],
   "source": [
    "fig, axes = plt.subplots()\n",
    "plt.scatter(np.array(xy_prime)[:,0],np.array(xy_prime)[:,1], s=10, \n",
    "            label='projected points')\n",
    "plt.scatter(A[0,:],A[1,:], s=0.5, label='isomap embedding points (2D)')\n",
    "plt.plot(center[0],center[1],'rx')\n",
    "\n",
    "circle = plt.Circle([float(p) for p in center], radius=r, fill=False, \n",
    "                    linestyle='--', label='estimated circle fit')\n",
    "\n",
    "axes.set_aspect(1)\n",
    "axes.add_artist(circle)\n",
    "\n",
    "plt.title('Projected points on circle', pad=10.0)\n",
    "plt.legend(bbox_to_anchor=(1,1))\n",
    "plt.show()\n",
    "\n"
   ]
  },
  {
   "cell_type": "markdown",
   "metadata": {},
   "source": [
    "### Line projection"
   ]
  },
  {
   "cell_type": "code",
   "execution_count": 18,
   "metadata": {},
   "outputs": [
    {
     "name": "stdout",
     "output_type": "stream",
     "text": [
      "0.0018336634903286483\n"
     ]
    }
   ],
   "source": [
    "z = np.arange(len(coords[:,2]))\n",
    "z_fit = scipy.stats.linregress(z, coords[:,2])\n",
    "print(z_fit.stderr)"
   ]
  },
  {
   "cell_type": "code",
   "execution_count": 19,
   "metadata": {},
   "outputs": [
    {
     "data": {
      "text/plain": [
       "[<matplotlib.lines.Line2D at 0x130fd6240>]"
      ]
     },
     "execution_count": 19,
     "metadata": {},
     "output_type": "execute_result"
    },
    {
     "data": {
      "image/png": "[encoded data removed]",
      "text/plain": [
       "<Figure size 432x288 with 1 Axes>"
      ]
     },
     "metadata": {
      "needs_background": "light"
     },
     "output_type": "display_data"
    }
   ],
   "source": [
    "plt.figure()\n",
    "plt.title('Line fit: TinySOL all instr')\n",
    "plt.scatter(np.arange(len(coords[:,2])), coords[:,2])\n",
    "\n",
    "plt.plot(z_fit.intercept + z_fit.slope*z, 'b')"
   ]
  },
  {
   "cell_type": "code",
   "execution_count": 20,
   "metadata": {},
   "outputs": [],
   "source": [
    "# New line coordinates\n",
    "z_prime = [i * z_fit.slope + z_fit.intercept for i,_ in enumerate(coords[:,2])]"
   ]
  },
  {
   "cell_type": "code",
   "execution_count": 21,
   "metadata": {},
   "outputs": [],
   "source": [
    "coords_prime = np.append(np.array(xy_prime), np.expand_dims(np.array(z_prime), axis=1), axis=1)\n",
    "coords_length = coords_prime.shape[0]"
   ]
  },
  {
   "cell_type": "markdown",
   "metadata": {},
   "source": [
    "### Distance matrices "
   ]
  },
  {
   "cell_type": "code",
   "execution_count": 22,
   "metadata": {},
   "outputs": [],
   "source": [
    "# Projected helix self-distance matrix\n",
    "\n",
    "D_proj = np.zeros((coords_length, coords_length))\n",
    "for i in range(coords_length):\n",
    "    for j in range(i,coords_length):\n",
    "        \n",
    "        D_proj[i][j] = d_squared(coords_prime[i,:], coords_prime[j,:])"
   ]
  },
  {
   "cell_type": "code",
   "execution_count": 23,
   "metadata": {},
   "outputs": [],
   "source": [
    "# Isomap embedding self-distance matrix\n",
    "\n",
    "D_isomap = np.zeros((coords_length, coords_length)) # Projected points same no. as isomap\n",
    "for i in range(coords_length):\n",
    "    for j in range(i, coords_length):\n",
    "        \n",
    "        D_isomap[i][j] = d_squared(coords[i,:], coords[j,:])"
   ]
  },
  {
   "cell_type": "code",
   "execution_count": 24,
   "metadata": {},
   "outputs": [],
   "source": [
    "# Geodesic self-distance matrix\n",
    "\n",
    "D_geodesic = isomap.dist_matrix_\n",
    "\n",
    "# Convert to upper triangular sparse matrix\n",
    "for i in range(coords_length):\n",
    "    for j in range(i):\n",
    "        D_geodesic[i,j] = 0"
   ]
  },
  {
   "cell_type": "code",
   "execution_count": 25,
   "metadata": {},
   "outputs": [],
   "source": [
    "## Centering matrix\n",
    "\n",
    "def centered(A, Q=24, J=3):\n",
    "    # Returns centered distance matrix\n",
    "    \n",
    "    '''\n",
    "    Inputs\n",
    "    -----\n",
    "    A - squared distance matrix\n",
    "    Q - quality factor, 24 by default\n",
    "    J - number of octaves, 3 by default\n",
    "    \n",
    "    Returns\n",
    "    -----\n",
    "    tau - MDS style diagonalized matrix of A\n",
    "    '''\n",
    "    \n",
    "    coords_length = A.shape[0]\n",
    "    H = np.zeros((coords_length, coords_length))\n",
    "\n",
    "    const = 1/(Q*J)\n",
    "    for i in range(coords_length):\n",
    "        for j in range(coords_length):\n",
    "            if j==i:\n",
    "                H[i,j] = 1 - const\n",
    "            else:\n",
    "                H[i,j] = -const\n",
    "                \n",
    "    return -0.5 * np.matmul(np.matmul(H, A), H)"
   ]
  },
  {
   "cell_type": "code",
   "execution_count": 26,
   "metadata": {},
   "outputs": [],
   "source": [
    "def frobenius_distance(A, B):\n",
    "    # Given two nxn matrices, return their 'Frobenius distance'\n",
    "    \n",
    "    return np.sqrt(np.sum(np.square(A - B)))"
   ]
  },
  {
   "cell_type": "code",
   "execution_count": 27,
   "metadata": {},
   "outputs": [],
   "source": [
    "loss_isomap = frobenius_distance(centered(D_geodesic), centered(D_isomap))/coords_length\n",
    "loss_total = frobenius_distance(centered(D_geodesic), centered(D_proj))/coords_length\n",
    "loss_proj = frobenius_distance(centered(D_isomap), centered(D_proj))/coords_length"
   ]
  },
  {
   "cell_type": "code",
   "execution_count": 28,
   "metadata": {},
   "outputs": [
    {
     "name": "stdout",
     "output_type": "stream",
     "text": [
      "Isomap loss= 117.47799081825059\n",
      "Projection loss= 1.0433842670152964\n",
      "Total loss= 116.82039800129996\n"
     ]
    }
   ],
   "source": [
    "print(f\"Isomap loss= {loss_isomap}\")\n",
    "print(f\"Projection loss= {loss_proj}\")\n",
    "print(f\"Total loss= {loss_total}\")"
   ]
  },
  {
   "cell_type": "code",
   "execution_count": 29,
   "metadata": {
    "scrolled": true
   },
   "outputs": [
    {
     "data": {
      "text/plain": [
       "True"
      ]
     },
     "execution_count": 29,
     "metadata": {},
     "output_type": "execute_result"
    }
   ],
   "source": [
    "(loss_total) - (loss_isomap + loss_proj) < 0"
   ]
  },
  {
   "cell_type": "code",
   "execution_count": 82,
   "metadata": {},
   "outputs": [],
   "source": [
    "## NOT STABLE- REWRITE\n",
    "\n",
    "helicality_dict[setting['instr']] = [loss_isomap, loss_proj, loss_total]"
   ]
  },
  {
   "cell_type": "code",
   "execution_count": 83,
   "metadata": {},
   "outputs": [
    {
     "data": {
      "text/plain": [
       "{'TpC-ord': [14.780170171262531, 6.90431053444174, 13.687580004785238],\n",
       " 'Hp-ord': [117.47799081825059, 1.0433842670152964, 116.82039800129996],\n",
       " 'Fl-ord': [10.860110079953524, 7.292949241337281, 9.508129580612602]}"
      ]
     },
     "execution_count": 83,
     "metadata": {},
     "output_type": "execute_result"
    }
   ],
   "source": [
    "\n",
    "helicality_dict"
   ]
  },
  {
   "cell_type": "code",
   "execution_count": 86,
   "metadata": {},
   "outputs": [],
   "source": [
    "import json\n",
    "\n",
    "with open(\"SOL_instr.json\", \"w\") as outfile:\n",
    "    json.dump(helicality_dict, outfile)"
   ]
  },
  {
   "cell_type": "code",
   "execution_count": 88,
   "metadata": {},
   "outputs": [
    {
     "name": "stdout",
     "output_type": "stream",
     "text": [
      "{'TpC-ord': [14.780170171262531, 6.90431053444174, 13.687580004785238], 'Hp-ord': [117.47799081825059, 1.0433842670152964, 116.82039800129996], 'Fl-ord': [10.860110079953524, 7.292949241337281, 9.508129580612602]}\n"
     ]
    }
   ],
   "source": [
    "infile = open(\"SOL_instr.json\")\n",
    "helicality_data = json.load(infile)\n",
    "print(helicality_data)"
   ]
  }
 ],
 "metadata": {
  "kernelspec": {
   "display_name": "Python 3",
   "language": "python",
   "name": "python3"
  },
  "language_info": {
   "codemirror_mode": {
    "name": "ipython",
    "version": 3
   },
   "file_extension": ".py",
   "mimetype": "text/x-python",
   "name": "python",
   "nbconvert_exporter": "python",
   "pygments_lexer": "ipython3",
   "version": "3.7.0"
  }
 },
 "nbformat": 4,
 "nbformat_minor": 2
}
