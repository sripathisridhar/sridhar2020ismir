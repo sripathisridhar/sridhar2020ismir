{
 "cells": [
  {
   "cell_type": "code",
   "execution_count": 1,
   "metadata": {},
   "outputs": [],
   "source": [
    "from mirdata import tinysol\n",
    "\n",
    "dataset = tinysol.load()"
   ]
  },
  {
   "cell_type": "code",
   "execution_count": 19,
   "metadata": {},
   "outputs": [
    {
     "data": {
      "text/plain": [
       "['BTb',\n",
       " 'Hn',\n",
       " 'Tbn',\n",
       " 'TpC',\n",
       " 'Acc',\n",
       " 'Vc',\n",
       " 'Cb',\n",
       " 'Va',\n",
       " 'Vn',\n",
       " 'ASax',\n",
       " 'Bn',\n",
       " 'ClBb',\n",
       " 'Fl',\n",
       " 'Ob']"
      ]
     },
     "execution_count": 19,
     "metadata": {},
     "output_type": "execute_result"
    }
   ],
   "source": [
    "track_instrs = [track_id.split('-')[0] for track_id in tinysol.track_ids()]\n",
    "list(Counter(track_instrs).keys())\n"
   ]
  },
  {
   "cell_type": "code",
   "execution_count": 7,
   "metadata": {},
   "outputs": [
    {
     "data": {
      "text/plain": [
       "dict_keys(['BTb', 'Hn', 'Tbn', 'TpC', 'Acc', 'Vc', 'Cb', 'Va', 'Vn', 'ASax', 'Bn', 'ClBb', 'Fl', 'Ob'])"
      ]
     },
     "execution_count": 7,
     "metadata": {},
     "output_type": "execute_result"
    }
   ],
   "source": [
    "from collections import Counter\n",
    "\n",
    "Counter(track.instrument_abbr for track in dataset.values()).keys()"
   ]
  },
  {
   "cell_type": "code",
   "execution_count": 1,
   "metadata": {},
   "outputs": [],
   "source": [
    "settings = {\n",
    "    'Q': [24],\n",
    "    'k': [3],\n",
    "    'comp': ['log'],\n",
    "    'instr': ['TpC'] # Replace by 'Tp' for trumpet or 'Hp' for harp\n",
    "}"
   ]
  },
  {
   "cell_type": "code",
   "execution_count": 2,
   "metadata": {},
   "outputs": [
    {
     "name": "stdout",
     "output_type": "stream",
     "text": [
      "TpC\n"
     ]
    }
   ],
   "source": [
    "from sklearn.model_selection import ParameterGrid\n",
    "\n",
    "settings_list = ParameterGrid(settings)\n",
    "for setting in settings_list:\n",
    "    print(setting['instr'])"
   ]
  },
  {
   "cell_type": "code",
   "execution_count": 6,
   "metadata": {},
   "outputs": [
    {
     "data": {
      "text/plain": [
       "(168, 96)"
      ]
     },
     "execution_count": 6,
     "metadata": {},
     "output_type": "execute_result"
    }
   ],
   "source": [
    "import h5py\n",
    "import numpy as np\n",
    "for setting in settings_list:\n",
    "    with h5py.File(\"TinySOL.h5\", \"r\") as f:\n",
    "        temp_dict = {key:f[key][()] \n",
    "                     for key in f.keys()\n",
    "                     if setting['instr'] in key}\n",
    "    batch_features = np.stack(list(temp_dict.values()), axis=1)\n",
    "batch_features.shape"
   ]
  },
  {
   "cell_type": "code",
   "execution_count": null,
   "metadata": {},
   "outputs": [],
   "source": []
  }
 ],
 "metadata": {
  "kernelspec": {
   "display_name": "Python 3",
   "language": "python",
   "name": "python3"
  },
  "language_info": {
   "codemirror_mode": {
    "name": "ipython",
    "version": 3
   },
   "file_extension": ".py",
   "mimetype": "text/x-python",
   "name": "python",
   "nbconvert_exporter": "python",
   "pygments_lexer": "ipython3",
   "version": "3.7.0"
  }
 },
 "nbformat": 4,
 "nbformat_minor": 2
}
