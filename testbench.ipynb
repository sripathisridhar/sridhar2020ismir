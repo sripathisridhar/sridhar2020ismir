{
 "cells": [
  {
   "cell_type": "code",
   "execution_count": 1,
   "metadata": {},
   "outputs": [],
   "source": [
    "import numpy as np\n",
    "import h5py\n",
    "from sklearn.model_selection import ParameterGrid\n",
    "from scipy.stats import linregress\n",
    "from mirdata import tinysol\n",
    "from collections import Counter\n",
    "import matplotlib\n",
    "import matplotlib.pyplot as plt\n",
    "from scipy.spatial import ConvexHull\n",
    "\n",
    "from utilities.isomapEmbedding import isomapEmbedding\n",
    "from utilities.convex_fit import convex_fit\n",
    "from utilities.circle_projection import circle_projection\n",
    "from utilities.centered import centered\n",
    "from utilities.frobenius_distance import frobenius_distance\n",
    "from utilities.d_squared import d_squared\n",
    "from utilities.self_distance import self_distance"
   ]
  },
  {
   "cell_type": "code",
   "execution_count": 10,
   "metadata": {},
   "outputs": [],
   "source": [
    "# track_ids = tinysol.track_ids()\n",
    "# track_instrs = [track_id.split('-')[0] for track_id in track_ids]\n",
    "# instr_list = list(Counter(track_instrs).keys())\n",
    "\n",
    "Q = 24\n",
    "settings = {\n",
    "    'Q': [24],\n",
    "    'k': [3],\n",
    "    'comp': ['log'],\n",
    "    'instr': ['']\n",
    "}\n",
    "settings_list = ParameterGrid(settings)\n",
    "\n",
    "losses = {}\n",
    "for setting in settings_list:\n",
    "    # read precomputed features\n",
    "    with h5py.File(\"NTVow.h5\", \"r\") as f:\n",
    "        features_dict = {\n",
    "            key:f[key][()]\n",
    "            for key in f.keys()\n",
    "        }\n",
    "    batch_features = np.stack(list(features_dict.values()), axis=1)\n",
    "\n",
    "    # compute isomap for subset\n",
    "    isomap, freqs, rho_std = isomapEmbedding(batch_features)\n",
    "    xyz_coords = isomap.fit_transform(rho_std)\n",
    "\n",
    "    # convex hull fit, line fit\n",
    "    xy_coords = xyz_coords[:, :2]\n",
    "    xy_center, radius,_ = convex_fit(xy_coords)\n",
    "    xy_prime = circle_projection(xy_center, radius, xy_coords) # projected (x,y) coordinates\n",
    "\n",
    "    z = xyz_coords[:, -1]\n",
    "    z_fit = linregress(np.arange(len(z)), z)\n",
    "    z_prime = np.asarray([i * z_fit.slope + z_fit.intercept for i, _ in enumerate(z)]) # projected z coordinates\n",
    "\n",
    "    xyz_prime = np.concatenate((xy_prime, z_prime[:, np.newaxis]), axis=1)\n",
    "\n",
    "    # euclidean projection loss\n",
    "    \n",
    "    d_squared = (xyz_prime - xyz_coords) ** 2\n",
    "    d_euclideans = np.sqrt(np.sum(d_squared, axis=1))\n",
    "    loss = np.mean(d_euclideans)\n",
    "    \n",
    "    losses[setting[\"instr\"]] = loss\n",
    "    \n",
    "    "
   ]
  },
  {
   "cell_type": "code",
   "execution_count": 11,
   "metadata": {},
   "outputs": [
    {
     "output_type": "execute_result",
     "data": {
      "text/plain": "{'': 2.621593535076292}"
     },
     "metadata": {},
     "execution_count": 11
    }
   ],
   "source": [
    "{k:v for k,v in sorted(losses.items(), key= lambda item: item[1])}"
   ]
  },
  {
   "cell_type": "code",
   "execution_count": 12,
   "metadata": {},
   "outputs": [
    {
     "output_type": "execute_result",
     "data": {
      "text/plain": "[{'Q': 24, 'comp': 'log', 'instr': '', 'k': 3}]"
     },
     "metadata": {},
     "execution_count": 12
    }
   ],
   "source": [
    "list(settings_list)"
   ]
  },
  {
   "cell_type": "code",
   "execution_count": null,
   "metadata": {},
   "outputs": [],
   "source": []
  }
 ],
 "metadata": {
  "kernelspec": {
   "display_name": "Python 3",
   "language": "python",
   "name": "python3"
  },
  "language_info": {
   "codemirror_mode": {
    "name": "ipython",
    "version": 3
   },
   "file_extension": ".py",
   "mimetype": "text/x-python",
   "name": "python",
   "nbconvert_exporter": "python",
   "pygments_lexer": "ipython3",
   "version": "3.7.0-final"
  }
 },
 "nbformat": 4,
 "nbformat_minor": 2
}