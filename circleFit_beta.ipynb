{
 "cells": [
  {
   "cell_type": "code",
   "execution_count": 1,
   "metadata": {},
   "outputs": [],
   "source": [
    "import numpy as np\n",
    "import matplotlib\n",
    "import matplotlib.pyplot as plt\n",
    "\n",
    "import os"
   ]
  },
  {
   "cell_type": "code",
   "execution_count": 9,
   "metadata": {},
   "outputs": [],
   "source": [
    "def circle_fit(A, verbose=False):\n",
    "    \n",
    "    '''\n",
    "    This function returns a linear least squares estimate of a circle fit\n",
    "    Points used must be stored in the columns of A as (x,y) coordinates\n",
    "    ----\n",
    "    Returns\n",
    "        x- Coordinates of estimated circle\n",
    "        r- Radius of estimated circle\n",
    "        residual- Residual error of the fit\n",
    "    '''\n",
    "    [n,m] = A.shape\n",
    "    A_augmented = np.hstack((A.T, np.ones((m,1))))\n",
    "    A_augmented.shape\n",
    "\n",
    "    # Linear least squares fit estimate\n",
    "    y, _,_,_ = np.linalg.lstsq(A_augmented, np.sum(np.multiply(A_augmented, A_augmented), axis=1).T, rcond=None)\n",
    "    x = 0.5*y[:n]\n",
    "    r = np.sqrt(y[n] + np.dot(x.T,x))\n",
    "\n",
    "    # Euclidean distance error\n",
    "#     residual = abs(np.expand_dims(np.multiply(x, x), axis=1) - np.multiply(A, A)) - np.square(r)\n",
    "    # Residual\n",
    "    residual = abs(np.sum((np.sum(np.square(np.expand_dims(x, axis=1) - A), axis=0) - r**2)))\n",
    "    \n",
    "    return x, r, residual"
   ]
  },
  {
   "cell_type": "code",
   "execution_count": 10,
   "metadata": {},
   "outputs": [
    {
     "data": {
      "text/plain": [
       "(2, 8)"
      ]
     },
     "execution_count": 10,
     "metadata": {},
     "output_type": "execute_result"
    }
   ],
   "source": [
    "# Gruntz data\n",
    "A = np.asarray([(0.7,4.0), (3.3,4.7), (5.6,4.0), (7.5,1.3), (6.4,-1.1), (4.4,-3.0), (0.3,-2.5), (-1.1,1.3)]).T\n",
    "A.shape"
   ]
  },
  {
   "cell_type": "code",
   "execution_count": 11,
   "metadata": {},
   "outputs": [
    {
     "name": "stdout",
     "output_type": "stream",
     "text": [
      "8.000000000000021\n"
     ]
    }
   ],
   "source": [
    "x, r, residual = circle_fit(A)\n",
    "print(residual)"
   ]
  },
  {
   "cell_type": "code",
   "execution_count": 12,
   "metadata": {},
   "outputs": [
    {
     "data": {
      "image/png": "[encoded data removed]",
      "text/plain": [
       "<Figure size 432x288 with 1 Axes>"
      ]
     },
     "metadata": {
      "needs_background": "light"
     },
     "output_type": "display_data"
    }
   ],
   "source": [
    "# Plot synthetic data and estimated circle\n",
    "\n",
    "matplotlib.rc('font', family='serif')\n",
    "\n",
    "fig, axes = plt.subplots()\n",
    "plt.scatter(A[0,:],A[1,:])\n",
    "plt.plot(x[0],x[1],'rx')\n",
    "\n",
    "circle = plt.Circle(x, radius=r, fill=False, linestyle='-.')\n",
    "\n",
    "axes.set_aspect(1)\n",
    "axes.add_artist(circle)\n",
    "\n",
    "axes.set_ylim([-5,6])\n",
    "axes.set_xlim([-2,8])\n",
    "\n",
    "plt.title('Circle fit by Linear Least Squares', pad=10.0)\n",
    "plt.show()"
   ]
  },
  {
   "cell_type": "code",
   "execution_count": null,
   "metadata": {},
   "outputs": [],
   "source": []
  }
 ],
 "metadata": {
  "kernelspec": {
   "display_name": "Python 3",
   "language": "python",
   "name": "python3"
  },
  "language_info": {
   "codemirror_mode": {
    "name": "ipython",
    "version": 3
   },
   "file_extension": ".py",
   "mimetype": "text/x-python",
   "name": "python",
   "nbconvert_exporter": "python",
   "pygments_lexer": "ipython3",
   "version": "3.7.0"
  }
 },
 "nbformat": 4,
 "nbformat_minor": 2
}
