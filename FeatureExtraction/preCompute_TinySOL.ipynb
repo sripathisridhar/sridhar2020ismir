{
 "cells": [
  {
   "cell_type": "code",
   "execution_count": 1,
   "metadata": {},
   "outputs": [],
   "source": [
    "import numpy as np\n",
    "import os\n",
    "import glob\n",
    "\n",
    "import librosa\n",
    "from librosa import load\n",
    "from librosa import cqt\n",
    "from librosa.display import specshow\n",
    "\n",
    "from tqdm import tqdm"
   ]
  },
  {
   "cell_type": "code",
   "execution_count": 2,
   "metadata": {},
   "outputs": [],
   "source": [
    "hop_size= 512\n",
    "q= 24"
   ]
  },
  {
   "cell_type": "code",
   "execution_count": 3,
   "metadata": {},
   "outputs": [],
   "source": [
    "from mirdata import tinysol\n",
    "\n",
    "dataset = tinysol.load()"
   ]
  },
  {
   "cell_type": "code",
   "execution_count": 4,
   "metadata": {},
   "outputs": [
    {
     "name": "stderr",
     "output_type": "stream",
     "text": [
      "  3%|▎         | 73/2913 [00:13<08:23,  5.64it/s]/Library/Frameworks/Python.framework/Versions/3.7/lib/python3.7/site-packages/librosa/core/spectrum.py:224: UserWarning: n_fft=512 is too small for input signal of length=456\n",
      "  n_fft, y.shape[-1]\n",
      "  3%|▎         | 74/2913 [00:13<07:44,  6.12it/s]/Library/Frameworks/Python.framework/Versions/3.7/lib/python3.7/site-packages/librosa/core/spectrum.py:224: UserWarning: n_fft=512 is too small for input signal of length=504\n",
      "  n_fft, y.shape[-1]\n",
      "  3%|▎         | 75/2913 [00:13<07:15,  6.52it/s]/Library/Frameworks/Python.framework/Versions/3.7/lib/python3.7/site-packages/librosa/core/spectrum.py:224: UserWarning: n_fft=512 is too small for input signal of length=454\n",
      "  n_fft, y.shape[-1]\n",
      "  3%|▎         | 76/2913 [00:13<06:49,  6.92it/s]/Library/Frameworks/Python.framework/Versions/3.7/lib/python3.7/site-packages/librosa/core/spectrum.py:224: UserWarning: n_fft=512 is too small for input signal of length=497\n",
      "  n_fft, y.shape[-1]\n",
      "  3%|▎         | 78/2913 [00:14<07:09,  6.61it/s]/Library/Frameworks/Python.framework/Versions/3.7/lib/python3.7/site-packages/librosa/core/spectrum.py:224: UserWarning: n_fft=512 is too small for input signal of length=467\n",
      "  n_fft, y.shape[-1]\n",
      "  3%|▎         | 79/2913 [00:14<07:21,  6.42it/s]/Library/Frameworks/Python.framework/Versions/3.7/lib/python3.7/site-packages/librosa/core/spectrum.py:224: UserWarning: n_fft=512 is too small for input signal of length=496\n",
      "  n_fft, y.shape[-1]\n",
      "  3%|▎         | 80/2913 [00:14<07:35,  6.22it/s]/Library/Frameworks/Python.framework/Versions/3.7/lib/python3.7/site-packages/librosa/core/spectrum.py:224: UserWarning: n_fft=512 is too small for input signal of length=488\n",
      "  n_fft, y.shape[-1]\n",
      "  3%|▎         | 82/2913 [00:14<07:43,  6.11it/s]/Library/Frameworks/Python.framework/Versions/3.7/lib/python3.7/site-packages/librosa/core/spectrum.py:224: UserWarning: n_fft=512 is too small for input signal of length=510\n",
      "  n_fft, y.shape[-1]\n",
      "  3%|▎         | 83/2913 [00:14<07:15,  6.50it/s]/Library/Frameworks/Python.framework/Versions/3.7/lib/python3.7/site-packages/librosa/core/spectrum.py:224: UserWarning: n_fft=512 is too small for input signal of length=477\n",
      "  n_fft, y.shape[-1]\n",
      "  3%|▎         | 84/2913 [00:15<06:44,  7.00it/s]/Library/Frameworks/Python.framework/Versions/3.7/lib/python3.7/site-packages/librosa/core/spectrum.py:224: UserWarning: n_fft=512 is too small for input signal of length=498\n",
      "  n_fft, y.shape[-1]\n",
      "  3%|▎         | 87/2913 [00:15<05:58,  7.89it/s]/Library/Frameworks/Python.framework/Versions/3.7/lib/python3.7/site-packages/librosa/core/spectrum.py:224: UserWarning: n_fft=512 is too small for input signal of length=483\n",
      "  n_fft, y.shape[-1]\n",
      "  3%|▎         | 89/2913 [00:15<05:47,  8.14it/s]/Library/Frameworks/Python.framework/Versions/3.7/lib/python3.7/site-packages/librosa/core/spectrum.py:224: UserWarning: n_fft=512 is too small for input signal of length=508\n",
      "  n_fft, y.shape[-1]\n",
      "  3%|▎         | 90/2913 [00:15<05:44,  8.19it/s]/Library/Frameworks/Python.framework/Versions/3.7/lib/python3.7/site-packages/librosa/core/spectrum.py:224: UserWarning: n_fft=512 is too small for input signal of length=490\n",
      "  n_fft, y.shape[-1]\n",
      "  3%|▎         | 94/2913 [00:16<06:43,  6.98it/s]/Library/Frameworks/Python.framework/Versions/3.7/lib/python3.7/site-packages/librosa/core/spectrum.py:224: UserWarning: n_fft=512 is too small for input signal of length=499\n",
      "  n_fft, y.shape[-1]\n",
      "  3%|▎         | 99/2913 [00:17<06:29,  7.22it/s]/Library/Frameworks/Python.framework/Versions/3.7/lib/python3.7/site-packages/librosa/core/spectrum.py:224: UserWarning: n_fft=512 is too small for input signal of length=495\n",
      "  n_fft, y.shape[-1]\n",
      "  3%|▎         | 101/2913 [00:17<06:04,  7.71it/s]/Library/Frameworks/Python.framework/Versions/3.7/lib/python3.7/site-packages/librosa/core/spectrum.py:224: UserWarning: n_fft=512 is too small for input signal of length=487\n",
      "  n_fft, y.shape[-1]\n",
      "  4%|▎         | 104/2913 [00:17<05:46,  8.11it/s]/Library/Frameworks/Python.framework/Versions/3.7/lib/python3.7/site-packages/librosa/core/spectrum.py:224: UserWarning: n_fft=512 is too small for input signal of length=480\n",
      "  n_fft, y.shape[-1]\n",
      "  4%|▎         | 107/2913 [00:18<05:51,  7.99it/s]/Library/Frameworks/Python.framework/Versions/3.7/lib/python3.7/site-packages/librosa/core/spectrum.py:224: UserWarning: n_fft=512 is too small for input signal of length=457\n",
      "  n_fft, y.shape[-1]\n",
      "100%|██████████| 2913/2913 [12:07<00:00,  3.82it/s]\n"
     ]
    }
   ],
   "source": [
    "features_dict= {}\n",
    "\n",
    "for key, value in tqdm(list(dataset.items()), disable=False):\n",
    "\n",
    "    # Read audio files\n",
    "    waveform, sample_rate= load(value.audio_path, sr=None)\n",
    "\n",
    "    # Compute CQTs\n",
    "    cqt_complex= cqt(y=waveform,\n",
    "                    sr=sample_rate,\n",
    "                    hop_length=hop_size,\n",
    "                    bins_per_octave=q,\n",
    "                    n_bins=q*7,\n",
    "                    sparsity=1e-6,\n",
    "                    )\n",
    "    scalogram= np.abs(cqt_complex)**2\n",
    "\n",
    "    # Find frame with maximum RMS value\n",
    "    rms= librosa.feature.rms(y=waveform, hop_length=hop_size)\n",
    "    rms_argmax= np.argmax(rms)\n",
    "    feature= scalogram[:,rms_argmax]\n",
    "\n",
    "    # Stack in dict\n",
    "    features_dict[key]= feature"
   ]
  },
  {
   "cell_type": "code",
   "execution_count": 5,
   "metadata": {},
   "outputs": [],
   "source": [
    "import h5py\n",
    "\n",
    "with h5py.File(\"TinySOL.h5\", \"w\") as f:\n",
    "    for key in features_dict.keys():\n",
    "        f[key] = features_dict[key]"
   ]
  },
  {
   "cell_type": "code",
   "execution_count": 6,
   "metadata": {},
   "outputs": [],
   "source": [
    "with h5py.File(\"TinySOL.h5\", \"r\") as f:\n",
    "    my_dict = {key:f[key][()] for key in f.keys()}"
   ]
  },
  {
   "cell_type": "code",
   "execution_count": 7,
   "metadata": {},
   "outputs": [
    {
     "data": {
      "text/plain": [
       "['Acc-ord-E3-mf-alt5-N',\n",
       " 'Acc-ord-E3-pp-N-N',\n",
       " 'Acc-ord-E3-pp-alt1-N',\n",
       " 'Acc-ord-E3-pp-alt2-N',\n",
       " 'Acc-ord-E4-ff-N-N',\n",
       " 'Acc-ord-E4-ff-alt1-N',\n",
       " 'Acc-ord-E4-ff-alt2-N',\n",
       " 'Acc-ord-E4-mf-N-N',\n",
       " 'Acc-ord-E4-mf-alt1-N',\n",
       " 'Acc-ord-E4-mf-alt2-N']"
      ]
     },
     "execution_count": 7,
     "metadata": {},
     "output_type": "execute_result"
    }
   ],
   "source": [
    "[key for i,key in enumerate(my_dict.keys()) if i in range(500,510)]"
   ]
  },
  {
   "cell_type": "code",
   "execution_count": null,
   "metadata": {},
   "outputs": [],
   "source": []
  }
 ],
 "metadata": {
  "kernelspec": {
   "display_name": "Python 3",
   "language": "python",
   "name": "python3"
  },
  "language_info": {
   "codemirror_mode": {
    "name": "ipython",
    "version": 3
   },
   "file_extension": ".py",
   "mimetype": "text/x-python",
   "name": "python",
   "nbconvert_exporter": "python",
   "pygments_lexer": "ipython3",
   "version": "3.7.0"
  }
 },
 "nbformat": 4,
 "nbformat_minor": 2
}
